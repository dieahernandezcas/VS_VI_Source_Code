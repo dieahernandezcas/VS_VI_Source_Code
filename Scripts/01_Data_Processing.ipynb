{
 "cells": [
  {
   "cell_type": "markdown",
   "metadata": {},
   "source": [
    "# Code Description: Data Cleaning and Preprocessing Script\n",
    "\n",
    "## Purpose\n",
    "This script is designed to perform initial data cleaning and preprocessing steps on the raw violence data (either 'Casos' or 'Victimas') for the project on Selective and Indiscriminate Violence (VS/VI) in Colombia. Its main goal is to prepare the data for subsequent analysis, metric calculation (Escalation, Intensity), and potential modeling.\n",
    "\n",
    "## Workflow Stage\n",
    "This script is in the Data Cleaning / Preprocessing stage. It takes the raw data, likely loaded from the combined DataFrame generated in the previous step, and transforms it into a clean, structured format suitable for further use in the analytical pipeline.\n",
    "\n",
    "## About\n",
    "This script will handle common data issues such as missing values, incorrect data types, and inconsistencies. It will standardize column names if necessary and potentially aggregate data by relevant temporal (e.g., month) and geographical (Country, Department, or Region) units, depending on the specific analysis level being targeted. The output will be a cleaned dataset ready for calculating metrics and generating features.\n"
   ]
  },
  {
   "cell_type": "code",
   "execution_count": 1,
   "metadata": {
    "colab": {
     "base_uri": "https://localhost:8080/"
    },
    "executionInfo": {
     "elapsed": 28997,
     "status": "ok",
     "timestamp": 1710506940684,
     "user": {
      "displayName": "Diego Alejandro Hernandez Castaneda",
      "userId": "18178177893889256336"
     },
     "user_tz": 300
    },
    "id": "qlMJpX1O7Q4i",
    "outputId": "74f5e05b-3505-4acf-bce4-af6b033190f8"
   },
   "outputs": [
    {
     "name": "stderr",
     "output_type": "stream",
     "text": [
      "/var/folders/6q/v6tkj0h970nd7vm3v0d4zvm80000gn/T/ipykernel_5255/2357270746.py:1: DeprecationWarning: \n",
      "Pyarrow will become a required dependency of pandas in the next major release of pandas (pandas 3.0),\n",
      "(to allow more performant data types, such as the Arrow string type, and better interoperability with other libraries)\n",
      "but was not found to be installed on your system.\n",
      "If this would cause problems for you,\n",
      "please provide us feedback at https://github.com/pandas-dev/pandas/issues/54466\n",
      "        \n",
      "  import pandas as pd\n"
     ]
    }
   ],
   "source": [
    "import pandas as pd\n",
    "import numpy as np\n",
    "import os\n",
    "from itertools import product "
   ]
  },
  {
   "cell_type": "markdown",
   "metadata": {
    "id": "143-Rb3oFRZH"
   },
   "source": [
    "### 1. Initial Setup, Library Imports, and Path Configuration\n",
    "This block performs the initial setup, including importing necessary libraries (pandas, os), defining the path to the raw data folder (one level up in 'Data/raw'), and listing the specific filenames expected for VI and VS violence types. It also defines the list of columns to be extracted from each file."
   ]
  },
  {
   "cell_type": "code",
   "execution_count": 2,
   "metadata": {
    "colab": {
     "base_uri": "https://localhost:8080/",
     "height": 519
    },
    "executionInfo": {
     "elapsed": 5,
     "status": "ok",
     "timestamp": 1697034482233,
     "user": {
      "displayName": "Cristian Alejandro Pulido Quintero",
      "userId": "14005360977426477184"
     },
     "user_tz": 300
    },
    "id": "zON1kAuX7aBm",
    "outputId": "96c91f96-855a-46c6-c1d4-e436bba80365"
   },
   "outputs": [
    {
     "name": "stdout",
     "output_type": "stream",
     "text": [
      "Processing file: Casos_Desaparicion_Forzada _202503.xlsx\n"
     ]
    },
    {
     "name": "stderr",
     "output_type": "stream",
     "text": [
      "/Users/diegohernandez/Documents/Virtual_Enviroment/Python_Colab/lib/python3.10/site-packages/openpyxl/styles/stylesheet.py:237: UserWarning: Workbook contains no default style, apply openpyxl's default\n",
      "  warn(\"Workbook contains no default style, apply openpyxl's default\")\n"
     ]
    },
    {
     "name": "stdout",
     "output_type": "stream",
     "text": [
      "Processing file: Casos_Reclutamiento_ninas_ninos_U_202503.xlsx\n"
     ]
    },
    {
     "name": "stderr",
     "output_type": "stream",
     "text": [
      "/Users/diegohernandez/Documents/Virtual_Enviroment/Python_Colab/lib/python3.10/site-packages/openpyxl/styles/stylesheet.py:237: UserWarning: Workbook contains no default style, apply openpyxl's default\n",
      "  warn(\"Workbook contains no default style, apply openpyxl's default\")\n"
     ]
    },
    {
     "name": "stdout",
     "output_type": "stream",
     "text": [
      "Processing file: Casos_Acciones_Belicas_202503.xlsx\n"
     ]
    },
    {
     "name": "stderr",
     "output_type": "stream",
     "text": [
      "/Users/diegohernandez/Documents/Virtual_Enviroment/Python_Colab/lib/python3.10/site-packages/openpyxl/styles/stylesheet.py:237: UserWarning: Workbook contains no default style, apply openpyxl's default\n",
      "  warn(\"Workbook contains no default style, apply openpyxl's default\")\n"
     ]
    },
    {
     "name": "stdout",
     "output_type": "stream",
     "text": [
      "Processing file: Casos_MInas_202503.xlsx\n"
     ]
    },
    {
     "name": "stderr",
     "output_type": "stream",
     "text": [
      "/Users/diegohernandez/Documents/Virtual_Enviroment/Python_Colab/lib/python3.10/site-packages/openpyxl/styles/stylesheet.py:237: UserWarning: Workbook contains no default style, apply openpyxl's default\n",
      "  warn(\"Workbook contains no default style, apply openpyxl's default\")\n"
     ]
    },
    {
     "name": "stdout",
     "output_type": "stream",
     "text": [
      "Processing file: Casos_Ataques_a_Poblaciones_202503.xlsx\n",
      "Processing file: Casos_Violencia_Sexual_202503.xlsx\n"
     ]
    },
    {
     "name": "stderr",
     "output_type": "stream",
     "text": [
      "/Users/diegohernandez/Documents/Virtual_Enviroment/Python_Colab/lib/python3.10/site-packages/openpyxl/styles/stylesheet.py:237: UserWarning: Workbook contains no default style, apply openpyxl's default\n",
      "  warn(\"Workbook contains no default style, apply openpyxl's default\")\n",
      "/Users/diegohernandez/Documents/Virtual_Enviroment/Python_Colab/lib/python3.10/site-packages/openpyxl/styles/stylesheet.py:237: UserWarning: Workbook contains no default style, apply openpyxl's default\n",
      "  warn(\"Workbook contains no default style, apply openpyxl's default\")\n"
     ]
    },
    {
     "name": "stdout",
     "output_type": "stream",
     "text": [
      "Processing file: Casos_Asesinatos_Selectivo_202503.xlsx\n"
     ]
    },
    {
     "name": "stderr",
     "output_type": "stream",
     "text": [
      "/Users/diegohernandez/Documents/Virtual_Enviroment/Python_Colab/lib/python3.10/site-packages/openpyxl/styles/stylesheet.py:237: UserWarning: Workbook contains no default style, apply openpyxl's default\n",
      "  warn(\"Workbook contains no default style, apply openpyxl's default\")\n"
     ]
    },
    {
     "name": "stdout",
     "output_type": "stream",
     "text": [
      "Processing file: Casos_Atentados_Terroristas_202503.xlsx\n",
      "Processing file: Caso_ Danos_a_Bienes_Civiles_202503.xlsx\n"
     ]
    },
    {
     "name": "stderr",
     "output_type": "stream",
     "text": [
      "/Users/diegohernandez/Documents/Virtual_Enviroment/Python_Colab/lib/python3.10/site-packages/openpyxl/styles/stylesheet.py:237: UserWarning: Workbook contains no default style, apply openpyxl's default\n",
      "  warn(\"Workbook contains no default style, apply openpyxl's default\")\n",
      "/Users/diegohernandez/Documents/Virtual_Enviroment/Python_Colab/lib/python3.10/site-packages/openpyxl/styles/stylesheet.py:237: UserWarning: Workbook contains no default style, apply openpyxl's default\n",
      "  warn(\"Workbook contains no default style, apply openpyxl's default\")\n"
     ]
    },
    {
     "name": "stdout",
     "output_type": "stream",
     "text": [
      "Processing file: Casos_Secuestro_202503.xlsx\n"
     ]
    },
    {
     "name": "stderr",
     "output_type": "stream",
     "text": [
      "/Users/diegohernandez/Documents/Virtual_Enviroment/Python_Colab/lib/python3.10/site-packages/openpyxl/styles/stylesheet.py:237: UserWarning: Workbook contains no default style, apply openpyxl's default\n",
      "  warn(\"Workbook contains no default style, apply openpyxl's default\")\n"
     ]
    },
    {
     "name": "stdout",
     "output_type": "stream",
     "text": [
      "Processing file: Casos_Masacre_202503.xlsx\n"
     ]
    },
    {
     "name": "stderr",
     "output_type": "stream",
     "text": [
      "/Users/diegohernandez/Documents/Virtual_Enviroment/Python_Colab/lib/python3.10/site-packages/openpyxl/styles/stylesheet.py:237: UserWarning: Workbook contains no default style, apply openpyxl's default\n",
      "  warn(\"Workbook contains no default style, apply openpyxl's default\")\n"
     ]
    }
   ],
   "source": [
    "# Define the path to the folder containing the Excel files.\n",
    "# Assumes the notebook is in a subfolder and the data is one level up.\n",
    "# Adjust '../' if your folder structure is different.\n",
    "data_folder_path = os.path.join(os.getcwd(), '..', 'Data', 'raw','cases') # Example path based on the proposed structure\n",
    "\n",
    "# Define the list of columns to select from each Excel file.\n",
    "columns_to_select = [\n",
    "    \"Año\",\n",
    "    \"Mes\",\n",
    "    \"Día\",\n",
    "    \"ID Caso\",\n",
    "    \"Municipio\",\n",
    "    \"Departamento\",\n",
    "    \"Región\"\n",
    "]\n",
    "\n",
    "# Define the lists of filenames corresponding to each violence type (VI and VS).\n",
    "# These filenames are used to classify the data.\n",
    "vi_files = [\n",
    "    \"Casos_Acciones_Belicas_202503.xlsx\",\n",
    "    \"Casos_Ataques_a_Poblaciones_202503.xlsx\",\n",
    "    \"Casos_Atentados_Terroristas_202503.xlsx\",\n",
    "    \"Casos_MInas_202503.xlsx\",\n",
    "    \"Casos_Reclutamiento_ninas_ninos_U_202503.xlsx\"\n",
    "]\n",
    "\n",
    "vs_files = [\n",
    "    \"Caso_ Danos_a_Bienes_Civiles_202503.xlsx\", # Note: Check for potential extra space in filename \"Caso_ Danos...\"\n",
    "    \"Casos_Asesinatos_Selectivo_202503.xlsx\",\n",
    "    \"Casos_Desaparicion_Forzada _202503.xlsx\", # Note: Check for potential extra space in filename \"Desaparicion_Forzada _\"\n",
    "    \"Casos_Masacre_202503.xlsx\",\n",
    "    \"Casos_Secuestro_202503.xlsx\",\n",
    "    \"Casos_Violencia_Sexual_202503.xlsx\"\n",
    "]\n",
    "\n",
    "# Initialize an empty list to store the processed dataframes from each file.\n",
    "all_dataframes = []\n",
    "\n",
    "# Iterate through all files in the specified data folder.\n",
    "for filename in os.listdir(data_folder_path):\n",
    "    # Construct the full file path.\n",
    "    file_path = os.path.join(data_folder_path, filename)\n",
    "\n",
    "    # Check if the current item is a file and if it's an Excel file.\n",
    "    if os.path.isfile(file_path) and filename.endswith('.xlsx'):\n",
    "        print(f\"Processing file: {filename}\") # Print the filename being processed\n",
    "\n",
    "        try:\n",
    "            # Read the Excel file into a pandas DataFrame.\n",
    "            df = pd.read_excel(file_path)\n",
    "\n",
    "            # Select only the required columns.\n",
    "            # Use .copy() to avoid SettingWithCopyWarning later.\n",
    "            df_selected = df[columns_to_select].copy()\n",
    "\n",
    "            # Determine the violence type based on the filename and add the 'violence type' column.\n",
    "            if filename in vi_files:\n",
    "                df_selected['violence type'] = 'VI'\n",
    "            elif filename in vs_files:\n",
    "                df_selected['violence type'] = 'VS'\n",
    "            else:\n",
    "                # If the file is not in either list, you might want to skip it\n",
    "                # or assign a different type, depending on your needs.\n",
    "                print(f\"Warning: File '{filename}' not classified as VI or VS. Skipping.\")\n",
    "                continue # Skip this file\n",
    "\n",
    "            # Append the processed DataFrame to the list.\n",
    "            all_dataframes.append(df_selected)\n",
    "\n",
    "        except Exception as e:\n",
    "            # Print an error message if reading or processing a file fails.\n",
    "            print(f\"Error processing file {filename}: {e}\")"
   ]
  },
  {
   "cell_type": "markdown",
   "metadata": {},
   "source": [
    "### 2. Concatenate DataFrames and Display Summary\n",
    "This block consolidates all individual DataFrames processed from the Excel files into a single combined_df. It includes a check to ensure data was processed before concatenation. Finally, it displays the head, info, and violence type counts of the combined DataFrame for initial verification."
   ]
  },
  {
   "cell_type": "code",
   "execution_count": 3,
   "metadata": {},
   "outputs": [
    {
     "name": "stdout",
     "output_type": "stream",
     "text": [
      "\n",
      "Combined DataFrame Head:\n",
      "    Año  Mes  Día  ID Caso  Municipio  Departamento  \\\n",
      "0  1991    5   25   100265  JERUSALEN  CUNDINAMARCA   \n",
      "1  2004   12    2   100282    LA MESA  CUNDINAMARCA   \n",
      "2  1993    3    9   101616     YACOPI  CUNDINAMARCA   \n",
      "3  1997    6    8   102204     BOJAYA         CHOCO   \n",
      "4  2000    6   12   102489      LLORO         CHOCO   \n",
      "\n",
      "                         Región violence type  \n",
      "0  SUROCCIDENTE DE CUNDINAMARCA            VS  \n",
      "1  SUROCCIDENTE DE CUNDINAMARCA            VS  \n",
      "2               MAGDALENA MEDIO            VS  \n",
      "3                        ATRATO            VS  \n",
      "4                        ATRATO            VS  \n",
      "\n",
      "Combined DataFrame Info:\n",
      "<class 'pandas.core.frame.DataFrame'>\n",
      "RangeIndex: 368370 entries, 0 to 368369\n",
      "Data columns (total 8 columns):\n",
      " #   Column         Non-Null Count   Dtype \n",
      "---  ------         --------------   ----- \n",
      " 0   Año            368370 non-null  int64 \n",
      " 1   Mes            368370 non-null  int64 \n",
      " 2   Día            368370 non-null  int64 \n",
      " 3   ID Caso        368370 non-null  int64 \n",
      " 4   Municipio      368370 non-null  object\n",
      " 5   Departamento   368370 non-null  object\n",
      " 6   Región         366197 non-null  object\n",
      " 7   violence type  368370 non-null  object\n",
      "dtypes: int64(4), object(4)\n",
      "memory usage: 22.5+ MB\n",
      "\n",
      "Violence Type Counts:\n",
      "violence type\n",
      "VS    301169\n",
      "VI     67201\n",
      "Name: count, dtype: int64\n"
     ]
    }
   ],
   "source": [
    "# Concatenate all dataframes in the list into a single DataFrame.\n",
    "# ignore_index=True resets the index of the resulting dataframe.\n",
    "if all_dataframes:\n",
    "    combined_df = pd.concat(all_dataframes, ignore_index=True)\n",
    "\n",
    "    # Display the first few rows of the combined DataFrame.\n",
    "    print(\"\\nCombined DataFrame Head:\")\n",
    "    print(combined_df.head())\n",
    "\n",
    "    # Display information about the combined DataFrame (column types, non-null counts).\n",
    "    print(\"\\nCombined DataFrame Info:\")\n",
    "    combined_df.info()\n",
    "\n",
    "    # Optional: Display value counts for the 'violence type' column to verify classification.\n",
    "    print(\"\\nViolence Type Counts:\")\n",
    "    print(combined_df['violence type'].value_counts())\n",
    "\n",
    "else:\n",
    "    print(\"\\nNo Excel files were processed or found.\")"
   ]
  },
  {
   "cell_type": "code",
   "execution_count": 4,
   "metadata": {},
   "outputs": [
    {
     "data": {
      "text/html": [
       "<div>\n",
       "<style scoped>\n",
       "    .dataframe tbody tr th:only-of-type {\n",
       "        vertical-align: middle;\n",
       "    }\n",
       "\n",
       "    .dataframe tbody tr th {\n",
       "        vertical-align: top;\n",
       "    }\n",
       "\n",
       "    .dataframe thead th {\n",
       "        text-align: right;\n",
       "    }\n",
       "</style>\n",
       "<table border=\"1\" class=\"dataframe\">\n",
       "  <thead>\n",
       "    <tr style=\"text-align: right;\">\n",
       "      <th></th>\n",
       "      <th>Año</th>\n",
       "      <th>Mes</th>\n",
       "      <th>Día</th>\n",
       "      <th>ID Caso</th>\n",
       "      <th>Municipio</th>\n",
       "      <th>Departamento</th>\n",
       "      <th>Región</th>\n",
       "      <th>violence type</th>\n",
       "    </tr>\n",
       "  </thead>\n",
       "  <tbody>\n",
       "    <tr>\n",
       "      <th>0</th>\n",
       "      <td>1991</td>\n",
       "      <td>5</td>\n",
       "      <td>25</td>\n",
       "      <td>100265</td>\n",
       "      <td>JERUSALEN</td>\n",
       "      <td>CUNDINAMARCA</td>\n",
       "      <td>SUROCCIDENTE DE CUNDINAMARCA</td>\n",
       "      <td>VS</td>\n",
       "    </tr>\n",
       "    <tr>\n",
       "      <th>1</th>\n",
       "      <td>2004</td>\n",
       "      <td>12</td>\n",
       "      <td>2</td>\n",
       "      <td>100282</td>\n",
       "      <td>LA MESA</td>\n",
       "      <td>CUNDINAMARCA</td>\n",
       "      <td>SUROCCIDENTE DE CUNDINAMARCA</td>\n",
       "      <td>VS</td>\n",
       "    </tr>\n",
       "    <tr>\n",
       "      <th>2</th>\n",
       "      <td>1993</td>\n",
       "      <td>3</td>\n",
       "      <td>9</td>\n",
       "      <td>101616</td>\n",
       "      <td>YACOPI</td>\n",
       "      <td>CUNDINAMARCA</td>\n",
       "      <td>MAGDALENA MEDIO</td>\n",
       "      <td>VS</td>\n",
       "    </tr>\n",
       "    <tr>\n",
       "      <th>3</th>\n",
       "      <td>1997</td>\n",
       "      <td>6</td>\n",
       "      <td>8</td>\n",
       "      <td>102204</td>\n",
       "      <td>BOJAYA</td>\n",
       "      <td>CHOCO</td>\n",
       "      <td>ATRATO</td>\n",
       "      <td>VS</td>\n",
       "    </tr>\n",
       "    <tr>\n",
       "      <th>4</th>\n",
       "      <td>2000</td>\n",
       "      <td>6</td>\n",
       "      <td>12</td>\n",
       "      <td>102489</td>\n",
       "      <td>LLORO</td>\n",
       "      <td>CHOCO</td>\n",
       "      <td>ATRATO</td>\n",
       "      <td>VS</td>\n",
       "    </tr>\n",
       "  </tbody>\n",
       "</table>\n",
       "</div>"
      ],
      "text/plain": [
       "    Año  Mes  Día  ID Caso  Municipio  Departamento  \\\n",
       "0  1991    5   25   100265  JERUSALEN  CUNDINAMARCA   \n",
       "1  2004   12    2   100282    LA MESA  CUNDINAMARCA   \n",
       "2  1993    3    9   101616     YACOPI  CUNDINAMARCA   \n",
       "3  1997    6    8   102204     BOJAYA         CHOCO   \n",
       "4  2000    6   12   102489      LLORO         CHOCO   \n",
       "\n",
       "                         Región violence type  \n",
       "0  SUROCCIDENTE DE CUNDINAMARCA            VS  \n",
       "1  SUROCCIDENTE DE CUNDINAMARCA            VS  \n",
       "2               MAGDALENA MEDIO            VS  \n",
       "3                        ATRATO            VS  \n",
       "4                        ATRATO            VS  "
      ]
     },
     "execution_count": 4,
     "metadata": {},
     "output_type": "execute_result"
    }
   ],
   "source": [
    "combined_df.to_csv('../Data/processed/cases/real_total_cases.tsv',sep='\\t')\n",
    "combined_df.head()"
   ]
  },
  {
   "cell_type": "markdown",
   "metadata": {},
   "source": [
    "### 3. Group Cases Data by Year, Month, and Violence Type (1958-2022)\n",
    "This block filters the combined_df for the years 1958-2022 and groups it by year, month, and 'violence type' to count the total number of cases for each type (VI and VS). It ensures all possible Year-Month-Violence Type combinations within this range are present by filling missing entries with a count of 0, creating a complete monthly time series for cases per violence type at the country level."
   ]
  },
  {
   "cell_type": "code",
   "execution_count": 5,
   "metadata": {},
   "outputs": [
    {
     "name": "stdout",
     "output_type": "stream",
     "text": [
      "\n",
      "--- Grouping Cases data by Year, Month, and Violence Type for Country (1958-2022) ---\n",
      "Filtered cases data for years 1958-2022. Shape: (345266, 8)\n",
      "\n",
      "Cases by Month, Year, and Violence Type (Country Level - partial view):\n",
      "Año   Mes  violence type\n",
      "1958  0    VI                3\n",
      "           VS               25\n",
      "      1    VI               10\n",
      "           VS               91\n",
      "      2    VI               13\n",
      "dtype: int64\n",
      "...\n",
      "Año   Mes  violence type\n",
      "2022  10   VS               68\n",
      "      11   VI               22\n",
      "           VS               62\n",
      "      12   VI               30\n",
      "           VS               41\n",
      "dtype: int64\n",
      "\n",
      "Grouped Cases DataFrame (Country Level - with imputed months and types):\n",
      "    Año  Mes violence type  CaseCount\n",
      "0  1958    1            VI         10\n",
      "1  1958    1            VI         10\n",
      "2  1958    1            VI         10\n",
      "3  1958    1            VI         10\n",
      "4  1958    1            VI         10\n",
      "...\n",
      "          Año  Mes violence type  CaseCount\n",
      "1216795  2022   12            VS         41\n",
      "1216796  2022   12            VS         41\n",
      "1216797  2022   12            VS         41\n",
      "1216798  2022   12            VS         41\n",
      "1216799  2022   12            VS         41\n",
      "\n",
      "Info of Grouped Cases DataFrame (Country Level):\n",
      "<class 'pandas.core.frame.DataFrame'>\n",
      "RangeIndex: 1216800 entries, 0 to 1216799\n",
      "Data columns (total 4 columns):\n",
      " #   Column         Non-Null Count    Dtype \n",
      "---  ------         --------------    ----- \n",
      " 0   Año            1216800 non-null  int64 \n",
      " 1   Mes            1216800 non-null  int64 \n",
      " 2   violence type  1216800 non-null  object\n",
      " 3   CaseCount      1216800 non-null  int64 \n",
      "dtypes: int64(3), object(1)\n",
      "memory usage: 37.1+ MB\n",
      "\n",
      "Cases data grouping and imputation for Country level complete.\n",
      "Resulting DataFrame stored in 'grouped_cases_country_monthly_type'.\n"
     ]
    }
   ],
   "source": [
    "# Ensure combined_df exists from the previous step\n",
    "if 'combined_df' not in locals():\n",
    "    print(\"Error: 'combined_df' not found. Please run the previous code block to create it.\")\n",
    "    combined_df = pd.read_csv('../Data/processed/cases/real_total_cases.tsv')\n",
    "else:\n",
    "    # --- 3. Group Cases Data by Year, Month, and Violence Type (1958-2022) for Country Level ---\n",
    "\n",
    "    print(\"\\n--- Grouping Cases data by Year, Month, and Violence Type for Country (1958-2022) ---\")\n",
    "\n",
    "    # 1. Select only records from the years 1958 to 2022.\n",
    "    # Ensure 'Año' column is numeric, handling potential errors.\n",
    "    try:\n",
    "        # Make a copy to avoid modifying the original combined_df directly\n",
    "        df_filtered_years_cases = combined_df.copy()\n",
    "        df_filtered_years_cases['Año'] = pd.to_numeric(df_filtered_years_cases['Año'], errors='coerce')\n",
    "        # Drop rows where 'Año' could not be converted to a number (NaN)\n",
    "        df_filtered_years_cases = df_filtered_years_cases.dropna(subset=['Año']).copy()\n",
    "\n",
    "        # Filter by the specified year range\n",
    "        df_filtered_years_cases = df_filtered_years_cases[\n",
    "            (df_filtered_years_cases['Año'] >= 1958) & (df_filtered_years_cases['Año'] <= 2022)\n",
    "        ].copy()\n",
    "\n",
    "        print(f\"Filtered cases data for years 1958-2022. Shape: {df_filtered_years_cases.shape}\")\n",
    "\n",
    "        # Ensure 'Mes' column is numeric, handling potential errors.\n",
    "        df_filtered_years_cases['Mes'] = pd.to_numeric(df_filtered_years_cases['Mes'], errors='coerce')\n",
    "        # Drop rows where 'Mes' could not be converted to a number (NaN)\n",
    "        df_filtered_years_cases = df_filtered_years_cases.dropna(subset=['Mes']).copy()\n",
    "\n",
    "        # Ensure 'violence type' column exists and is not empty\n",
    "        if 'violence type' not in df_filtered_years_cases.columns or df_filtered_years_cases['violence type'].isnull().all():\n",
    "             print(\"Error: 'violence type' column is missing or empty. Please check the previous data loading step.\")\n",
    "        else:\n",
    "            # 2. Generate a group by for each month within each year and violence type to count the number of cases (rows).\n",
    "            # Group by 'Año', 'Mes', and 'violence type' and count the occurrences (size of each group).\n",
    "            # The result is a pandas Series with multi-index (Año, Mes, violence type).\n",
    "            cases_by_month_year_type_country = df_filtered_years_cases.groupby(['Año', 'Mes', 'violence type']).size()\n",
    "\n",
    "            print(\"\\nCases by Month, Year, and Violence Type (Country Level - partial view):\")\n",
    "            print(cases_by_month_year_type_country.head())\n",
    "            print(\"...\")\n",
    "            print(cases_by_month_year_type_country.tail())\n",
    "\n",
    "\n",
    "            # 3. Ensure each year from 1958 to 2022 has all 12 months for each violence type.\n",
    "            # Create a complete list of all expected Year-Month-Violence Type combinations.\n",
    "            # Get all unique violence types present in the data\n",
    "            unique_violence_types = df_filtered_years_cases['violence type'].unique()\n",
    "\n",
    "            # Create a complete list of all expected Year-Month combinations.\n",
    "            full_date_range_cases = pd.date_range(start='1958-01-01', end='2022-12-01', freq='MS') # Month Start frequency\n",
    "\n",
    "            # Create a list of all possible (Year, Month, Violence Type) combinations\n",
    "            all_combinations = list(product(full_date_range_cases.year, full_date_range_cases.month, unique_violence_types))\n",
    "\n",
    "            # Create a MultiIndex from all combinations\n",
    "            full_year_month_type_index_cases = pd.MultiIndex.from_tuples(\n",
    "                all_combinations,\n",
    "                names=['Año', 'Mes', 'violence type']\n",
    "            )\n",
    "\n",
    "            # Reindex the cases_by_month_year_type_country Series using the complete index.\n",
    "            # This will add missing Year-Month-Violence Type combinations with NaN values.\n",
    "            cases_by_month_year_complete_country = cases_by_month_year_type_country.reindex(full_year_month_type_index_cases)\n",
    "\n",
    "            # Fill the NaN values (for months/types with no cases) with 0.\n",
    "            cases_by_month_year_complete_country = cases_by_month_year_complete_country.fillna(0).astype(int)\n",
    "\n",
    "            # Convert the Series back to a DataFrame for easier handling.\n",
    "            # The column name will be 'CaseCount'.\n",
    "            grouped_cases_country_monthly_type = cases_by_month_year_complete_country.reset_index(name='CaseCount')\n",
    "\n",
    "            # Sort the DataFrame by Year, Month, and Violence Type to ensure chronological order.\n",
    "            grouped_cases_country_monthly_type = grouped_cases_country_monthly_type.sort_values(by=['Año', 'Mes', 'violence type']).reset_index(drop=True)\n",
    "\n",
    "\n",
    "            print(\"\\nGrouped Cases DataFrame (Country Level - with imputed months and types):\")\n",
    "            print(grouped_cases_country_monthly_type.head())\n",
    "            print(\"...\")\n",
    "            print(grouped_cases_country_monthly_type.tail())\n",
    "\n",
    "            print(\"\\nInfo of Grouped Cases DataFrame (Country Level):\")\n",
    "            grouped_cases_country_monthly_type.info()\n",
    "\n",
    "            print(\"\\nCases data grouping and imputation for Country level complete.\")\n",
    "            print(\"Resulting DataFrame stored in 'grouped_cases_country_monthly_type'.\")\n",
    "\n",
    "    except KeyError as e:\n",
    "        print(f\"Error: Required column not found - {e}. Please check column names in the combined_df.\")\n",
    "    except Exception as e:\n",
    "        print(f\"An unexpected error occurred during grouping: {e}\")\n",
    "\n"
   ]
  },
  {
   "cell_type": "code",
   "execution_count": 6,
   "metadata": {},
   "outputs": [
    {
     "data": {
      "text/html": [
       "<div>\n",
       "<style scoped>\n",
       "    .dataframe tbody tr th:only-of-type {\n",
       "        vertical-align: middle;\n",
       "    }\n",
       "\n",
       "    .dataframe tbody tr th {\n",
       "        vertical-align: top;\n",
       "    }\n",
       "\n",
       "    .dataframe thead th {\n",
       "        text-align: right;\n",
       "    }\n",
       "</style>\n",
       "<table border=\"1\" class=\"dataframe\">\n",
       "  <thead>\n",
       "    <tr style=\"text-align: right;\">\n",
       "      <th></th>\n",
       "      <th>Año</th>\n",
       "      <th>Mes</th>\n",
       "      <th>violence type</th>\n",
       "      <th>CaseCount</th>\n",
       "    </tr>\n",
       "  </thead>\n",
       "  <tbody>\n",
       "    <tr>\n",
       "      <th>0</th>\n",
       "      <td>1958</td>\n",
       "      <td>1</td>\n",
       "      <td>VI</td>\n",
       "      <td>10</td>\n",
       "    </tr>\n",
       "    <tr>\n",
       "      <th>1</th>\n",
       "      <td>1958</td>\n",
       "      <td>1</td>\n",
       "      <td>VI</td>\n",
       "      <td>10</td>\n",
       "    </tr>\n",
       "    <tr>\n",
       "      <th>2</th>\n",
       "      <td>1958</td>\n",
       "      <td>1</td>\n",
       "      <td>VI</td>\n",
       "      <td>10</td>\n",
       "    </tr>\n",
       "    <tr>\n",
       "      <th>3</th>\n",
       "      <td>1958</td>\n",
       "      <td>1</td>\n",
       "      <td>VI</td>\n",
       "      <td>10</td>\n",
       "    </tr>\n",
       "    <tr>\n",
       "      <th>4</th>\n",
       "      <td>1958</td>\n",
       "      <td>1</td>\n",
       "      <td>VI</td>\n",
       "      <td>10</td>\n",
       "    </tr>\n",
       "  </tbody>\n",
       "</table>\n",
       "</div>"
      ],
      "text/plain": [
       "    Año  Mes violence type  CaseCount\n",
       "0  1958    1            VI         10\n",
       "1  1958    1            VI         10\n",
       "2  1958    1            VI         10\n",
       "3  1958    1            VI         10\n",
       "4  1958    1            VI         10"
      ]
     },
     "execution_count": 6,
     "metadata": {},
     "output_type": "execute_result"
    }
   ],
   "source": [
    "grouped_cases_country_monthly_type.to_csv('../Data/processed/cases/country/1958_2022_cases_country.tsv',sep='\\t')\n",
    "grouped_cases_country_monthly_type.head()"
   ]
  },
  {
   "cell_type": "markdown",
   "metadata": {},
   "source": [
    "### 4. Generate Animated Line Plot of VI vs VS Cases (1958-2022)\n",
    "This block creates an animated line plot visualizing the yearly trend of Selective Violence (VS) and Indiscriminate Violence (VI) cases in Colombia from 1958 to 2022. The animation shows how the cumulative case counts for each violence type evolve over time, providing a dynamic view of their historical trajectories. The output is saved as an MP4 video file."
   ]
  },
  {
   "cell_type": "code",
   "execution_count": 5,
   "metadata": {},
   "outputs": [
    {
     "name": "stdout",
     "output_type": "stream",
     "text": [
      "\n",
      "--- Generating Animated Line Plot ---\n",
      "\n",
      "Saving animation to /Users/diegohernandez/Documents/GitHub/VS_VI_Source_Code/Scripts/../Images/VI_VS_Colombia.mp4...\n"
     ]
    },
    {
     "ename": "FileNotFoundError",
     "evalue": "[Errno 2] No such file or directory: 'ffmpeg'",
     "output_type": "error",
     "traceback": [
      "\u001b[0;31m---------------------------------------------------------------------------\u001b[0m",
      "\u001b[0;31mFileNotFoundError\u001b[0m                         Traceback (most recent call last)",
      "Cell \u001b[0;32mIn[5], line 106\u001b[0m\n\u001b[1;32m    104\u001b[0m plt\u001b[38;5;241m.\u001b[39mswitch_backend(\u001b[38;5;124m'\u001b[39m\u001b[38;5;124magg\u001b[39m\u001b[38;5;124m'\u001b[39m)\n\u001b[1;32m    105\u001b[0m writer \u001b[38;5;241m=\u001b[39m animation\u001b[38;5;241m.\u001b[39mFFMpegWriter(fps\u001b[38;5;241m=\u001b[39m\u001b[38;5;241m10\u001b[39m) \u001b[38;5;66;03m# frames per second\u001b[39;00m\n\u001b[0;32m--> 106\u001b[0m \u001b[43mani\u001b[49m\u001b[38;5;241;43m.\u001b[39;49m\u001b[43msave\u001b[49m\u001b[43m(\u001b[49m\u001b[43moutput_path\u001b[49m\u001b[43m,\u001b[49m\u001b[43m \u001b[49m\u001b[43mwriter\u001b[49m\u001b[38;5;241;43m=\u001b[39;49m\u001b[43mwriter\u001b[49m\u001b[43m)\u001b[49m\n\u001b[1;32m    107\u001b[0m \u001b[38;5;28mprint\u001b[39m(\u001b[38;5;124m\"\u001b[39m\u001b[38;5;124mAnimation saved successfully!\u001b[39m\u001b[38;5;124m\"\u001b[39m)\n\u001b[1;32m    111\u001b[0m \u001b[38;5;28;01mtry\u001b[39;00m:\n",
      "File \u001b[0;32m~/Documents/Virtual_Enviroment/Python_Colab/lib/python3.10/site-packages/matplotlib/animation.py:1089\u001b[0m, in \u001b[0;36mAnimation.save\u001b[0;34m(self, filename, writer, fps, dpi, codec, bitrate, extra_args, metadata, extra_anim, savefig_kwargs, progress_callback)\u001b[0m\n\u001b[1;32m   1085\u001b[0m savefig_kwargs[\u001b[38;5;124m'\u001b[39m\u001b[38;5;124mtransparent\u001b[39m\u001b[38;5;124m'\u001b[39m] \u001b[38;5;241m=\u001b[39m \u001b[38;5;28;01mFalse\u001b[39;00m   \u001b[38;5;66;03m# just to be safe!\u001b[39;00m\n\u001b[1;32m   1086\u001b[0m \u001b[38;5;66;03m# canvas._is_saving = True makes the draw_event animation-starting\u001b[39;00m\n\u001b[1;32m   1087\u001b[0m \u001b[38;5;66;03m# callback a no-op; canvas.manager = None prevents resizing the GUI\u001b[39;00m\n\u001b[1;32m   1088\u001b[0m \u001b[38;5;66;03m# widget (both are likewise done in savefig()).\u001b[39;00m\n\u001b[0;32m-> 1089\u001b[0m \u001b[38;5;28;01mwith\u001b[39;00m writer\u001b[38;5;241m.\u001b[39msaving(\u001b[38;5;28mself\u001b[39m\u001b[38;5;241m.\u001b[39m_fig, filename, dpi), \\\n\u001b[1;32m   1090\u001b[0m      cbook\u001b[38;5;241m.\u001b[39m_setattr_cm(\u001b[38;5;28mself\u001b[39m\u001b[38;5;241m.\u001b[39m_fig\u001b[38;5;241m.\u001b[39mcanvas, _is_saving\u001b[38;5;241m=\u001b[39m\u001b[38;5;28;01mTrue\u001b[39;00m, manager\u001b[38;5;241m=\u001b[39m\u001b[38;5;28;01mNone\u001b[39;00m):\n\u001b[1;32m   1091\u001b[0m     \u001b[38;5;28;01mfor\u001b[39;00m anim \u001b[38;5;129;01min\u001b[39;00m all_anim:\n\u001b[1;32m   1092\u001b[0m         anim\u001b[38;5;241m.\u001b[39m_init_draw()  \u001b[38;5;66;03m# Clear the initial frame\u001b[39;00m\n",
      "File \u001b[0;32m~/miniconda3/lib/python3.10/contextlib.py:135\u001b[0m, in \u001b[0;36m_GeneratorContextManager.__enter__\u001b[0;34m(self)\u001b[0m\n\u001b[1;32m    133\u001b[0m \u001b[38;5;28;01mdel\u001b[39;00m \u001b[38;5;28mself\u001b[39m\u001b[38;5;241m.\u001b[39margs, \u001b[38;5;28mself\u001b[39m\u001b[38;5;241m.\u001b[39mkwds, \u001b[38;5;28mself\u001b[39m\u001b[38;5;241m.\u001b[39mfunc\n\u001b[1;32m    134\u001b[0m \u001b[38;5;28;01mtry\u001b[39;00m:\n\u001b[0;32m--> 135\u001b[0m     \u001b[38;5;28;01mreturn\u001b[39;00m \u001b[38;5;28;43mnext\u001b[39;49m\u001b[43m(\u001b[49m\u001b[38;5;28;43mself\u001b[39;49m\u001b[38;5;241;43m.\u001b[39;49m\u001b[43mgen\u001b[49m\u001b[43m)\u001b[49m\n\u001b[1;32m    136\u001b[0m \u001b[38;5;28;01mexcept\u001b[39;00m \u001b[38;5;167;01mStopIteration\u001b[39;00m:\n\u001b[1;32m    137\u001b[0m     \u001b[38;5;28;01mraise\u001b[39;00m \u001b[38;5;167;01mRuntimeError\u001b[39;00m(\u001b[38;5;124m\"\u001b[39m\u001b[38;5;124mgenerator didn\u001b[39m\u001b[38;5;124m'\u001b[39m\u001b[38;5;124mt yield\u001b[39m\u001b[38;5;124m\"\u001b[39m) \u001b[38;5;28;01mfrom\u001b[39;00m \u001b[38;5;28;01mNone\u001b[39;00m\n",
      "File \u001b[0;32m~/Documents/Virtual_Enviroment/Python_Colab/lib/python3.10/site-packages/matplotlib/animation.py:240\u001b[0m, in \u001b[0;36mAbstractMovieWriter.saving\u001b[0;34m(self, fig, outfile, dpi, *args, **kwargs)\u001b[0m\n\u001b[1;32m    235\u001b[0m     _log\u001b[38;5;241m.\u001b[39minfo(\u001b[38;5;124m\"\u001b[39m\u001b[38;5;124mDisabling savefig.bbox = \u001b[39m\u001b[38;5;124m'\u001b[39m\u001b[38;5;124mtight\u001b[39m\u001b[38;5;124m'\u001b[39m\u001b[38;5;124m, as it may cause \u001b[39m\u001b[38;5;124m\"\u001b[39m\n\u001b[1;32m    236\u001b[0m               \u001b[38;5;124m\"\u001b[39m\u001b[38;5;124mframe size to vary, which is inappropriate for \u001b[39m\u001b[38;5;124m\"\u001b[39m\n\u001b[1;32m    237\u001b[0m               \u001b[38;5;124m\"\u001b[39m\u001b[38;5;124manimation.\u001b[39m\u001b[38;5;124m\"\u001b[39m)\n\u001b[1;32m    239\u001b[0m \u001b[38;5;66;03m# This particular sequence is what contextlib.contextmanager wants\u001b[39;00m\n\u001b[0;32m--> 240\u001b[0m \u001b[38;5;28;43mself\u001b[39;49m\u001b[38;5;241;43m.\u001b[39;49m\u001b[43msetup\u001b[49m\u001b[43m(\u001b[49m\u001b[43mfig\u001b[49m\u001b[43m,\u001b[49m\u001b[43m \u001b[49m\u001b[43moutfile\u001b[49m\u001b[43m,\u001b[49m\u001b[43m \u001b[49m\u001b[43mdpi\u001b[49m\u001b[43m,\u001b[49m\u001b[43m \u001b[49m\u001b[38;5;241;43m*\u001b[39;49m\u001b[43margs\u001b[49m\u001b[43m,\u001b[49m\u001b[43m \u001b[49m\u001b[38;5;241;43m*\u001b[39;49m\u001b[38;5;241;43m*\u001b[39;49m\u001b[43mkwargs\u001b[49m\u001b[43m)\u001b[49m\n\u001b[1;32m    241\u001b[0m \u001b[38;5;28;01mwith\u001b[39;00m mpl\u001b[38;5;241m.\u001b[39mrc_context({\u001b[38;5;124m'\u001b[39m\u001b[38;5;124msavefig.bbox\u001b[39m\u001b[38;5;124m'\u001b[39m: \u001b[38;5;28;01mNone\u001b[39;00m}):\n\u001b[1;32m    242\u001b[0m     \u001b[38;5;28;01mtry\u001b[39;00m:\n",
      "File \u001b[0;32m~/Documents/Virtual_Enviroment/Python_Colab/lib/python3.10/site-packages/matplotlib/animation.py:331\u001b[0m, in \u001b[0;36mMovieWriter.setup\u001b[0;34m(self, fig, outfile, dpi)\u001b[0m\n\u001b[1;32m    328\u001b[0m \u001b[38;5;28mself\u001b[39m\u001b[38;5;241m.\u001b[39m_w, \u001b[38;5;28mself\u001b[39m\u001b[38;5;241m.\u001b[39m_h \u001b[38;5;241m=\u001b[39m \u001b[38;5;28mself\u001b[39m\u001b[38;5;241m.\u001b[39m_adjust_frame_size()\n\u001b[1;32m    329\u001b[0m \u001b[38;5;66;03m# Run here so that grab_frame() can write the data to a pipe. This\u001b[39;00m\n\u001b[1;32m    330\u001b[0m \u001b[38;5;66;03m# eliminates the need for temp files.\u001b[39;00m\n\u001b[0;32m--> 331\u001b[0m \u001b[38;5;28;43mself\u001b[39;49m\u001b[38;5;241;43m.\u001b[39;49m\u001b[43m_run\u001b[49m\u001b[43m(\u001b[49m\u001b[43m)\u001b[49m\n",
      "File \u001b[0;32m~/Documents/Virtual_Enviroment/Python_Colab/lib/python3.10/site-packages/matplotlib/animation.py:341\u001b[0m, in \u001b[0;36mMovieWriter._run\u001b[0;34m(self)\u001b[0m\n\u001b[1;32m    338\u001b[0m _log\u001b[38;5;241m.\u001b[39minfo(\u001b[38;5;124m'\u001b[39m\u001b[38;5;124mMovieWriter._run: running command: \u001b[39m\u001b[38;5;132;01m%s\u001b[39;00m\u001b[38;5;124m'\u001b[39m,\n\u001b[1;32m    339\u001b[0m           cbook\u001b[38;5;241m.\u001b[39m_pformat_subprocess(command))\n\u001b[1;32m    340\u001b[0m PIPE \u001b[38;5;241m=\u001b[39m subprocess\u001b[38;5;241m.\u001b[39mPIPE\n\u001b[0;32m--> 341\u001b[0m \u001b[38;5;28mself\u001b[39m\u001b[38;5;241m.\u001b[39m_proc \u001b[38;5;241m=\u001b[39m \u001b[43msubprocess\u001b[49m\u001b[38;5;241;43m.\u001b[39;49m\u001b[43mPopen\u001b[49m\u001b[43m(\u001b[49m\n\u001b[1;32m    342\u001b[0m \u001b[43m    \u001b[49m\u001b[43mcommand\u001b[49m\u001b[43m,\u001b[49m\u001b[43m \u001b[49m\u001b[43mstdin\u001b[49m\u001b[38;5;241;43m=\u001b[39;49m\u001b[43mPIPE\u001b[49m\u001b[43m,\u001b[49m\u001b[43m \u001b[49m\u001b[43mstdout\u001b[49m\u001b[38;5;241;43m=\u001b[39;49m\u001b[43mPIPE\u001b[49m\u001b[43m,\u001b[49m\u001b[43m \u001b[49m\u001b[43mstderr\u001b[49m\u001b[38;5;241;43m=\u001b[39;49m\u001b[43mPIPE\u001b[49m\u001b[43m,\u001b[49m\n\u001b[1;32m    343\u001b[0m \u001b[43m    \u001b[49m\u001b[43mcreationflags\u001b[49m\u001b[38;5;241;43m=\u001b[39;49m\u001b[43msubprocess_creation_flags\u001b[49m\u001b[43m)\u001b[49m\n",
      "File \u001b[0;32m~/miniconda3/lib/python3.10/subprocess.py:971\u001b[0m, in \u001b[0;36mPopen.__init__\u001b[0;34m(self, args, bufsize, executable, stdin, stdout, stderr, preexec_fn, close_fds, shell, cwd, env, universal_newlines, startupinfo, creationflags, restore_signals, start_new_session, pass_fds, user, group, extra_groups, encoding, errors, text, umask, pipesize)\u001b[0m\n\u001b[1;32m    967\u001b[0m         \u001b[38;5;28;01mif\u001b[39;00m \u001b[38;5;28mself\u001b[39m\u001b[38;5;241m.\u001b[39mtext_mode:\n\u001b[1;32m    968\u001b[0m             \u001b[38;5;28mself\u001b[39m\u001b[38;5;241m.\u001b[39mstderr \u001b[38;5;241m=\u001b[39m io\u001b[38;5;241m.\u001b[39mTextIOWrapper(\u001b[38;5;28mself\u001b[39m\u001b[38;5;241m.\u001b[39mstderr,\n\u001b[1;32m    969\u001b[0m                     encoding\u001b[38;5;241m=\u001b[39mencoding, errors\u001b[38;5;241m=\u001b[39merrors)\n\u001b[0;32m--> 971\u001b[0m     \u001b[38;5;28;43mself\u001b[39;49m\u001b[38;5;241;43m.\u001b[39;49m\u001b[43m_execute_child\u001b[49m\u001b[43m(\u001b[49m\u001b[43margs\u001b[49m\u001b[43m,\u001b[49m\u001b[43m \u001b[49m\u001b[43mexecutable\u001b[49m\u001b[43m,\u001b[49m\u001b[43m \u001b[49m\u001b[43mpreexec_fn\u001b[49m\u001b[43m,\u001b[49m\u001b[43m \u001b[49m\u001b[43mclose_fds\u001b[49m\u001b[43m,\u001b[49m\n\u001b[1;32m    972\u001b[0m \u001b[43m                        \u001b[49m\u001b[43mpass_fds\u001b[49m\u001b[43m,\u001b[49m\u001b[43m \u001b[49m\u001b[43mcwd\u001b[49m\u001b[43m,\u001b[49m\u001b[43m \u001b[49m\u001b[43menv\u001b[49m\u001b[43m,\u001b[49m\n\u001b[1;32m    973\u001b[0m \u001b[43m                        \u001b[49m\u001b[43mstartupinfo\u001b[49m\u001b[43m,\u001b[49m\u001b[43m \u001b[49m\u001b[43mcreationflags\u001b[49m\u001b[43m,\u001b[49m\u001b[43m \u001b[49m\u001b[43mshell\u001b[49m\u001b[43m,\u001b[49m\n\u001b[1;32m    974\u001b[0m \u001b[43m                        \u001b[49m\u001b[43mp2cread\u001b[49m\u001b[43m,\u001b[49m\u001b[43m \u001b[49m\u001b[43mp2cwrite\u001b[49m\u001b[43m,\u001b[49m\n\u001b[1;32m    975\u001b[0m \u001b[43m                        \u001b[49m\u001b[43mc2pread\u001b[49m\u001b[43m,\u001b[49m\u001b[43m \u001b[49m\u001b[43mc2pwrite\u001b[49m\u001b[43m,\u001b[49m\n\u001b[1;32m    976\u001b[0m \u001b[43m                        \u001b[49m\u001b[43merrread\u001b[49m\u001b[43m,\u001b[49m\u001b[43m \u001b[49m\u001b[43merrwrite\u001b[49m\u001b[43m,\u001b[49m\n\u001b[1;32m    977\u001b[0m \u001b[43m                        \u001b[49m\u001b[43mrestore_signals\u001b[49m\u001b[43m,\u001b[49m\n\u001b[1;32m    978\u001b[0m \u001b[43m                        \u001b[49m\u001b[43mgid\u001b[49m\u001b[43m,\u001b[49m\u001b[43m \u001b[49m\u001b[43mgids\u001b[49m\u001b[43m,\u001b[49m\u001b[43m \u001b[49m\u001b[43muid\u001b[49m\u001b[43m,\u001b[49m\u001b[43m \u001b[49m\u001b[43mumask\u001b[49m\u001b[43m,\u001b[49m\n\u001b[1;32m    979\u001b[0m \u001b[43m                        \u001b[49m\u001b[43mstart_new_session\u001b[49m\u001b[43m)\u001b[49m\n\u001b[1;32m    980\u001b[0m \u001b[38;5;28;01mexcept\u001b[39;00m:\n\u001b[1;32m    981\u001b[0m     \u001b[38;5;66;03m# Cleanup if the child failed starting.\u001b[39;00m\n\u001b[1;32m    982\u001b[0m     \u001b[38;5;28;01mfor\u001b[39;00m f \u001b[38;5;129;01min\u001b[39;00m \u001b[38;5;28mfilter\u001b[39m(\u001b[38;5;28;01mNone\u001b[39;00m, (\u001b[38;5;28mself\u001b[39m\u001b[38;5;241m.\u001b[39mstdin, \u001b[38;5;28mself\u001b[39m\u001b[38;5;241m.\u001b[39mstdout, \u001b[38;5;28mself\u001b[39m\u001b[38;5;241m.\u001b[39mstderr)):\n",
      "File \u001b[0;32m~/miniconda3/lib/python3.10/subprocess.py:1863\u001b[0m, in \u001b[0;36mPopen._execute_child\u001b[0;34m(self, args, executable, preexec_fn, close_fds, pass_fds, cwd, env, startupinfo, creationflags, shell, p2cread, p2cwrite, c2pread, c2pwrite, errread, errwrite, restore_signals, gid, gids, uid, umask, start_new_session)\u001b[0m\n\u001b[1;32m   1861\u001b[0m     \u001b[38;5;28;01mif\u001b[39;00m errno_num \u001b[38;5;241m!=\u001b[39m \u001b[38;5;241m0\u001b[39m:\n\u001b[1;32m   1862\u001b[0m         err_msg \u001b[38;5;241m=\u001b[39m os\u001b[38;5;241m.\u001b[39mstrerror(errno_num)\n\u001b[0;32m-> 1863\u001b[0m     \u001b[38;5;28;01mraise\u001b[39;00m child_exception_type(errno_num, err_msg, err_filename)\n\u001b[1;32m   1864\u001b[0m \u001b[38;5;28;01mraise\u001b[39;00m child_exception_type(err_msg)\n",
      "\u001b[0;31mFileNotFoundError\u001b[0m: [Errno 2] No such file or directory: 'ffmpeg'"
     ]
    }
   ],
   "source": [
    "import pandas as pd\n",
    "import matplotlib.pyplot as plt\n",
    "import matplotlib.animation as animation\n",
    "import os\n",
    "import seaborn as sns # Import seaborn for aesthetics\n",
    "\n",
    "grouped_cases_country_monthly_type = pd.read_csv('../Data/processed/cases/country/1958_2022_cases_country.tsv',sep='\\t')\n",
    "# Ensure the grouped_cases_country_monthly_type DataFrame exists\n",
    "if 'grouped_cases_country_monthly_type' not in locals():\n",
    "    print(\"Error: 'grouped_cases_country_monthly_type' not found. Please run the previous code block to create it.\")\n",
    "    \n",
    "else:\n",
    "    # --- 4. Generate Animated Line Plot of VI vs VS Cases (1958-2022) ---\n",
    "\n",
    "    print(\"\\n--- Generating Animated Line Plot ---\")\n",
    "\n",
    "    # Prepare data: Group by Year and Violence Type and sum the monthly counts\n",
    "    # This gives the total cases per year for each violence type\n",
    "    yearly_cases_by_type = grouped_cases_country_monthly_type.groupby(['Año', 'violence type'])['CaseCount'].sum().reset_index()\n",
    "\n",
    "    # Pivot the data for easier plotting\n",
    "    # Years will be the index, violence types will be columns, and values will be CaseCount\n",
    "    yearly_cases_pivot = yearly_cases_by_type.pivot(index='Año', columns='violence type', values='CaseCount').fillna(0)\n",
    "\n",
    "    # Ensure both 'VI' and 'VS' columns exist, even if one had 0 cases for all years\n",
    "    for v_type in ['VI', 'VS']:\n",
    "        if v_type not in yearly_cases_pivot.columns:\n",
    "            yearly_cases_pivot[v_type] = 0\n",
    "\n",
    "    # Sort the pivot table by year\n",
    "    yearly_cases_pivot = yearly_cases_pivot.sort_index()\n",
    "\n",
    "    # Calculate cumulative sum for the animation\n",
    "    # This shows the total cases up to a given year\n",
    "    yearly_cases_cumulative = yearly_cases_pivot.cumsum()\n",
    "\n",
    "    # Set up the figure and axes for the plot\n",
    "    plt.style.use('seaborn-v0_8-darkgrid') # Use a nice seaborn style\n",
    "    fig, ax = plt.subplots(figsize=(12, 7))\n",
    "\n",
    "    # Set initial plot limits (adjust as needed)\n",
    "    ax.set_xlim(yearly_cases_cumulative.index.min(), yearly_cases_cumulative.index.max())\n",
    "    ax.set_ylim(0, yearly_cases_cumulative.values.max() * 1.1) # Add 10% padding to y-axis\n",
    "\n",
    "    # Set titles and labels\n",
    "    ax.set_title('Cumulative Cases of Selective (VS) and Indiscriminate (VI) Violence in Colombia (1958-2022)', fontsize=14)\n",
    "    ax.set_xlabel('Year', fontsize=12)\n",
    "    ax.set_ylabel('Cumulative Number of Cases', fontsize=12)\n",
    "    ax.grid(True, linestyle='--', alpha=0.6)\n",
    "\n",
    "    # Initialize the lines for the plot\n",
    "    line_vi, = ax.plot([], [], label='VI Cases', color='red', linewidth=2)\n",
    "    line_vs, = ax.plot([], [], label='VS Cases', color='blue', linewidth=2)\n",
    "    ax.legend(loc='upper left')\n",
    "\n",
    "    # Add a text annotation for the current year (will be updated in animation)\n",
    "    year_text = ax.text(0.02, 0.95, '', transform=ax.transAxes, fontsize=15, color='gray')\n",
    "\n",
    "    # Define the animation update function\n",
    "    def update(frame):\n",
    "        \"\"\"\n",
    "        Updates the plot data for each frame of the animation.\n",
    "        frame: The current frame number (index of the year).\n",
    "        \"\"\"\n",
    "        current_year_index = frame\n",
    "        current_year = yearly_cases_cumulative.index[current_year_index]\n",
    "\n",
    "        # Update data for VI line up to the current year\n",
    "        line_vi.set_data(yearly_cases_cumulative.index[:current_year_index+1],\n",
    "                         yearly_cases_cumulative['VI'].iloc[:current_year_index+1])\n",
    "\n",
    "        # Update data for VS line up to the current year\n",
    "        line_vs.set_data(yearly_cases_cumulative.index[:current_year_index+1],\n",
    "                         yearly_cases_cumulative['VS'].iloc[:current_year_index+1])\n",
    "\n",
    "        # Update the year text annotation\n",
    "        year_text.set_text(f'Year: {current_year}')\n",
    "\n",
    "        return line_vi, line_vs, year_text\n",
    "\n",
    "    # Create the animation\n",
    "    # frames: number of frames (equal to the number of years)\n",
    "    # interval: delay between frames in milliseconds\n",
    "    # blit: True means only re-draw the parts that have changed (can be faster)\n",
    "    ani = animation.FuncAnimation(fig, update, frames=len(yearly_cases_cumulative.index),\n",
    "                                  interval=200, blit=True) # Adjust interval for speed\n",
    "\n",
    "    # Define the output path for the video\n",
    "    output_dir = os.path.join(os.getcwd(), '..', 'Images')\n",
    "    output_filename = 'VI_VS_Colombia.mp4'\n",
    "    output_path = os.path.join(output_dir, output_filename)\n",
    "\n",
    "    # Create the output directory if it doesn't exist\n",
    "    os.makedirs(output_dir, exist_ok=True)\n",
    "\n",
    "    # Save the animation\n",
    "    # Requires ffmpeg. If you don't have it, you might need to install it\n",
    "    # (e.g., using conda install -c conda-forge ffmpeg or through a system package manager)\n",
    "\n",
    "\n",
    "\n",
    "    print(f\"\\nSaving animation to {output_path}...\")\n",
    "    # Use 'agg' backend if running in a non-GUI environment\n",
    "    plt.switch_backend('agg')\n",
    "    writer = animation.FFMpegWriter(fps=10) # frames per second\n",
    "    ani.save(output_path, writer=writer)\n",
    "    print(\"Animation saved successfully!\")\n",
    "    \n",
    "\n",
    "\n",
    "    try:\n",
    "        print(f\"\\nSaving animation to {output_path}...\")\n",
    "        # Use 'agg' backend if running in a non-GUI environment\n",
    "        plt.switch_backend('agg')\n",
    "        writer = animation.FFMpegWriter(fps=10) # frames per second\n",
    "        ani.save(output_path, writer=writer)\n",
    "        print(\"Animation saved successfully!\")\n",
    "    except Exception as e:\n",
    "        print(f\"\\nError saving animation: {e}\")\n",
    "        print(\"Please ensure you have ffmpeg installed and accessible in your environment.\")\n",
    "        print(\"You might need to install it using: conda install -c conda-forge ffmpeg\")\n",
    "        print(\"Or using your system's package manager (e.g., sudo apt-get install ffmpeg on Ubuntu).\")\n",
    "\n",
    "    # Close the plot figure to free up memory\n",
    "    plt.close(fig)"
   ]
  },
  {
   "cell_type": "code",
   "execution_count": null,
   "metadata": {},
   "outputs": [
    {
     "name": "stdout",
     "output_type": "stream",
     "text": [
      "Collecting python-ffmpeg\n",
      "  Downloading python_ffmpeg-2.0.12-py3-none-any.whl.metadata (3.2 kB)\n",
      "Collecting pyee (from python-ffmpeg)\n",
      "  Downloading pyee-13.0.0-py3-none-any.whl.metadata (2.9 kB)\n",
      "Collecting typing-extensions (from python-ffmpeg)\n",
      "  Downloading typing_extensions-4.13.2-py3-none-any.whl.metadata (3.0 kB)\n",
      "Downloading python_ffmpeg-2.0.12-py3-none-any.whl (14 kB)\n",
      "Downloading pyee-13.0.0-py3-none-any.whl (15 kB)\n",
      "Downloading typing_extensions-4.13.2-py3-none-any.whl (45 kB)\n",
      "Installing collected packages: typing-extensions, pyee, python-ffmpeg\n",
      "\u001b[2K   \u001b[90m━━━━━━━━━━━━━━━━━━━━━━━━━━━━━━━━━━━━━━━━\u001b[0m \u001b[32m3/3\u001b[0m [python-ffmpeg]\n",
      "\u001b[1A\u001b[2KSuccessfully installed pyee-13.0.0 python-ffmpeg-2.0.12 typing-extensions-4.13.2\n",
      "Note: you may need to restart the kernel to use updated packages.\n"
     ]
    }
   ],
   "source": [
    "pip install python-ffmpeg"
   ]
  },
  {
   "cell_type": "code",
   "execution_count": 7,
   "metadata": {},
   "outputs": [
    {
     "name": "stdout",
     "output_type": "stream",
     "text": [
      "zsh:1: command not found: ffmpeg\n"
     ]
    }
   ],
   "source": [
    "!ffmpeg -version"
   ]
  },
  {
   "cell_type": "code",
   "execution_count": null,
   "metadata": {},
   "outputs": [],
   "source": []
  }
 ],
 "metadata": {
  "colab": {
   "name": "",
   "version": ""
  },
  "kernelspec": {
   "display_name": "Python_Colab",
   "language": "python",
   "name": "python3"
  },
  "language_info": {
   "codemirror_mode": {
    "name": "ipython",
    "version": 3
   },
   "file_extension": ".py",
   "mimetype": "text/x-python",
   "name": "python",
   "nbconvert_exporter": "python",
   "pygments_lexer": "ipython3",
   "version": "3.10.12"
  }
 },
 "nbformat": 4,
 "nbformat_minor": 0
}
