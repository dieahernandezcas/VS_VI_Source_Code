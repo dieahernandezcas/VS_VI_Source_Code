{
 "cells": [
  {
   "cell_type": "markdown",
   "metadata": {},
   "source": [
    "# Analysis of Selective and Indiscriminate Violence (VS/VI) in Colombia\n",
    "\n",
    "## Project: VS_VI_Source_Code\n",
    "This Jupyter Notebook is part of the VS_VI_Source_Code project, which aims to analyze the dynamics of Selective Violence (VS) and Indiscriminate Violence (VI) in Colombia.\n",
    "\n",
    "## Purpose\n",
    "The primary purpose of this notebook is to process raw violence data, calculate key temporal metrics (Escalation and Intensity) for different violence types (VS, VI, and VC = VS + VI), and save the results for further analysis and visualization.\n",
    "\n",
    "## Workflow\n",
    "This notebook covers the initial data ingestion, cleaning, and metric calculation stages of the project's analytical workflow. It processes data at the Country, Department, and Region levels.\n",
    "\n",
    "## About\n",
    "This notebook implements the logic to read raw case data from Excel files, consolidate it, define and apply functions to calculate Escalation and Intensity based on monthly case counts, and store the processed data and metrics in a structured format."
   ]
  },
  {
   "cell_type": "markdown",
   "metadata": {},
   "source": [
    "### 1. Initial Setup, Library Imports, and Path Configuration\n",
    "This block performs the initial setup, including importing necessary libraries (pandas, os, numpy, itertools) for data handling, file system interaction, numerical operations, and generating combinations. It also defines project-specific paths for raw data input and processed results output, relative to the notebook's location."
   ]
  },
  {
   "cell_type": "code",
   "execution_count": 1,
   "metadata": {},
   "outputs": [
    {
     "name": "stdout",
     "output_type": "stream",
     "text": [
      "Initial setup, library imports, and path configuration complete.\n"
     ]
    },
    {
     "name": "stderr",
     "output_type": "stream",
     "text": [
      "/var/folders/6q/v6tkj0h970nd7vm3v0d4zvm80000gn/T/ipykernel_5503/1778634592.py:3: DeprecationWarning: \n",
      "Pyarrow will become a required dependency of pandas in the next major release of pandas (pandas 3.0),\n",
      "(to allow more performant data types, such as the Arrow string type, and better interoperability with other libraries)\n",
      "but was not found to be installed on your system.\n",
      "If this would cause problems for you,\n",
      "please provide us feedback at https://github.com/pandas-dev/pandas/issues/54466\n",
      "        \n",
      "  import pandas as pd\n"
     ]
    }
   ],
   "source": [
    "# 1. Initial Setup, Library Imports, and Path Configuration\n",
    "\n",
    "import pandas as pd\n",
    "import os\n",
    "import numpy as np\n",
    "from itertools import product\n",
    "\n",
    "# Define the path to the folder containing the raw Excel files.\n",
    "# Assumes the notebook is in a subfolder and the data is one level up in 'Data/raw'.\n",
    "# Adjust '../' if your folder structure is different.\n",
    "data_folder_path = os.path.join(os.getcwd(), '..', 'Data', 'raw')\n",
    "\n",
    "# Define the base output directory for results.\n",
    "# Assumes the results should be saved one level up in 'Results/intensity & escalation/cases'.\n",
    "base_results_dir = os.path.join(os.getcwd(), '..', 'Results', 'intensity & escalation', 'cases')\n",
    "\n",
    "# Define the list of columns to select from each Excel file.\n",
    "columns_to_select = [\n",
    "    \"Año\",\n",
    "    \"Mes\",\n",
    "    \"Día\",\n",
    "    \"ID Caso\",\n",
    "    \"Municipio\",\n",
    "    \"Departamento\",\n",
    "    \"Región\"\n",
    "]\n",
    "\n",
    "# Define the lists of filenames corresponding to each violence type (VI and VS).\n",
    "# These filenames are used to classify the data during ingestion.\n",
    "vi_files = [\n",
    "    \"Casos_Acciones_Belicas_202503.xlsx\",\n",
    "    \"Casos_Ataques_a_Poblaciones_202503.xlsx\",\n",
    "    \"Casos_Atentados_Terroristas_202503.xlsx\",\n",
    "    \"Casos_MInas_202503.xlsx\",\n",
    "    \"Casos_Reclutamiento_ninas_ninos_U_202503.xlsx\"\n",
    "]\n",
    "\n",
    "vs_files = [\n",
    "    \"Caso_ Danos_a_Bienes_Civiles_202503.xlsx\", # Note: Check for potential extra space in filename \"Caso_ Danos...\"\n",
    "    \"Casos_Asesinatos_Selectivo_202503.xlsx\",\n",
    "    \"Casos_Desaparicion_Forzada _202503.xlsx\", # Note: Check for potential extra space in filename \"Desaparicion_Forzada _\"\n",
    "    \"Casos_Masacre_202503.xlsx\",\n",
    "    \"Casos_Secuestro_202503.xlsx\",\n",
    "    \"Casos_Violencia_Sexual_202503.xlsx\"\n",
    "]\n",
    "\n",
    "print(\"Initial setup, library imports, and path configuration complete.\")"
   ]
  },
  {
   "cell_type": "markdown",
   "metadata": {},
   "source": [
    "### 2. Read and Combine Raw Data from Excel Files\n",
    "This block reads all the specified raw Excel files from the configured data folder. It selects only the necessary columns and classifies each record as either 'VI' (Indiscriminate Violence) or 'VS' (Selective Violence) based on the source filename. All processed data is then combined into a single pandas DataFrame named combined_df."
   ]
  },
  {
   "cell_type": "code",
   "execution_count": null,
   "metadata": {},
   "outputs": [],
   "source": [
    "# 2. Read and Combine Raw Data from Excel Files\n",
    "\n",
    "print(\"\\n--- Reading and Combining Raw Data ---\")\n",
    "\n",
    "# Initialize an empty list to store the processed dataframes from each file.\n",
    "all_dataframes = []\n",
    "\n",
    "# Iterate through all items in the specified data folder.\n",
    "for filename in os.listdir(data_folder_path):\n",
    "    # Construct the full file path.\n",
    "    file_path = os.path.join(data_folder_path, filename)\n",
    "\n",
    "    # Check if the current item is a file and if it's an Excel file.\n",
    "    if os.path.isfile(file_path) and filename.endswith('.xlsx'):\n",
    "        print(f\"Processing file: {filename}\") # Print the filename being processed\n",
    "\n",
    "        try:\n",
    "            # Read the Excel file into a pandas DataFrame.\n",
    "            df = pd.read_excel(file_path)\n",
    "\n",
    "            # Select only the required columns.\n",
    "            # Use .copy() to avoid SettingWithCopyWarning later.\n",
    "            df_selected = df[columns_to_select].copy()\n",
    "\n",
    "            # Determine the violence type based on the filename and add the 'violence type' column.\n",
    "            if filename in vi_files:\n",
    "                df_selected['violence type'] = 'VI'\n",
    "            elif filename in vs_files:\n",
    "                df_selected['violence type'] = 'VS'\n",
    "            else:\n",
    "                # If the file is not in either list, skip it.\n",
    "                print(f\"Warning: File '{filename}' not classified as VI or VS. Skipping.\")\n",
    "                continue # Skip this file\n",
    "\n",
    "            # Append the processed DataFrame to the list.\n",
    "            all_dataframes.append(df_selected)\n",
    "\n",
    "        except Exception as e:\n",
    "            # Print an error message if reading or processing a file fails.\n",
    "            print(f\"Error processing file {filename}: {e}\")\n",
    "\n",
    "# Concatenate all dataframes in the list into a single DataFrame.\n",
    "# ignore_index=True resets the index of the resulting dataframe.\n",
    "if all_dataframes:\n",
    "    combined_df = pd.concat(all_dataframes, ignore_index=True)\n",
    "\n",
    "    # Display the first few rows of the combined DataFrame.\n",
    "    print(\"\\nCombined DataFrame Head:\")\n",
    "    print(combined_df.head())\n",
    "\n",
    "    # Display information about the combined DataFrame (column types, non-null counts).\n",
    "    print(\"\\nCombined DataFrame Info:\")\n",
    "    combined_df.info()\n",
    "\n",
    "    # Optional: Display value counts for the 'violence type' column to verify classification.\n",
    "    print(\"\\nViolence Type Counts:\")\n",
    "    print(combined_df['violence type'].value_counts())\n",
    "\n",
    "    print(\"\\nRaw data reading and combining complete.\")\n",
    "\n",
    "else:\n",
    "    print(\"\\nNo Excel files were processed or found. 'combined_df' was not created.\")\n",
    "\n"
   ]
  }
 ],
 "metadata": {
  "colab": {
   "name": "",
   "version": ""
  },
  "kernelspec": {
   "display_name": "Python_Colab",
   "language": "python",
   "name": "python3"
  },
  "language_info": {
   "codemirror_mode": {
    "name": "ipython",
    "version": 3
   },
   "file_extension": ".py",
   "mimetype": "text/x-python",
   "name": "python",
   "nbconvert_exporter": "python",
   "pygments_lexer": "ipython3",
   "version": "3.10.12"
  }
 },
 "nbformat": 4,
 "nbformat_minor": 0
}
